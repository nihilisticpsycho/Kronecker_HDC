{
 "cells": [
  {
   "cell_type": "code",
   "execution_count": 3,
   "metadata": {},
   "outputs": [],
   "source": [
    "import matplotlib.pyplot as plt\n",
    "import numpy as np\n",
    "import seaborn as sns\n",
    "import pandas as pd \n",
    "import torch as torch \n",
    "import torch.nn as nn\n",
    "import torch.optim as optim\n",
    "import dataset_utils\n",
    "import torch.nn.functional as F\n",
    "import torchvision.models as models\n",
    "from pytorch_metric_learning import distances, losses, miners, reducers"
   ]
  },
  {
   "cell_type": "code",
   "execution_count": 23,
   "metadata": {},
   "outputs": [],
   "source": [
    "\n",
    "def binarize_hard(x):\n",
    "    y = torch.where(x > 0, 1.0, -1.0)\n",
    "    return y"
   ]
  },
  {
   "cell_type": "code",
   "execution_count": 5,
   "metadata": {},
   "outputs": [],
   "source": [
    "class BinaryModel(nn.Module):\n",
    "    def __init__(self, dim, D, num_classes, enc_type='RP', binary=True, device='cpu', kargs=None):\n",
    "        super(BinaryModel, self).__init__()\n",
    "        self.enc_type, self.binary = enc_type, binary\t\n",
    "        self.device = device\n",
    "        if enc_type in ['RP', 'RP-COS']:\n",
    "            self.rp_layer = nn.Linear(dim, D).to(device)\n",
    "            self.class_hvs = torch.zeros(num_classes, D).float().to(device)\n",
    "            self.class_hvs_nb = torch.zeros(num_classes, D).float().to(device)\n",
    "        else:\n",
    "            pass\n",
    "    #hard sigmoid    \n",
    "    def weight_binarize(self, W):\n",
    "       W = torch.where(W<-1,-1,W)\n",
    "       W = torch.where(W>1,1,W)\n",
    "       mask1 = (W >= -1) & (W < 0)\n",
    "       W[mask1] = 2 * W[mask1] + W[mask1]*W[mask1]\n",
    "       mask2 = (W >= 0) & (W < 1)\n",
    "       W[mask2] = 2 * W[mask2] - W[mask2]*W[mask2]\n",
    "       # W[W > 1] = 1\n",
    "       return W\n",
    "    #using Bi-Real Approximation     \n",
    "    def activation_binarize(self,a):\n",
    "       a = torch.where(a<-1,-1,a)\n",
    "       a = torch.where(a>1,1,a)\n",
    "       mask1 = (a >= -1) & (a < 0)\n",
    "       a[mask1] = 2 * a[mask1] + a[mask1]*a[mask1]\n",
    "       #a[mask1] = 0\n",
    "       mask2 = (a >= 0) & (a < 1)\n",
    "       a[mask2] = 2 * a[mask2] - a[mask2]*a[mask2]\n",
    "       #a = torch.where((a >= -1) & (a < 0),2*a + torch.pow(a,2) )\n",
    "       #a = torch.where((a >= 0) & (a < 1), 2*a- torch.pow(a,2))\n",
    "    #    a [a < -1] = -1\n",
    "    #    a [a > 1]   =  1\n",
    "    #    a [(a >= -1) & (a < 0)] = 2*a[(a >= -1) & (a < 0)] + torch.pow(a [(a >= -1) & (a < 0)],2)\n",
    "    #    a [(a >= 0) & (a < 1)] = 2*a[(a >= 0) & (a < 1)] - torch.pow(a [(a >= 0) & (a < 1)],2)\n",
    "       return a\n",
    "\n",
    "    def encoding(self, x):\n",
    "        if self.enc_type == 'RP':\n",
    "            #x = self.activation_binarize(x) \n",
    "            #need not binarize the inputs \n",
    "            #progressively binarize the inputs, after training the weights\n",
    "            #add some print statements and check \n",
    "            #print(\"The value of weights, before binarization\")\n",
    "            #print(self.rp_layer.weight.data)\n",
    "            weights = self.rp_layer.weight.data.clone()\n",
    "            weights_bin = self.weight_binarize(weights)\n",
    "            self.rp_layer.weight.data = weights_bin.clone() \n",
    "            out = self.rp_layer(x)\n",
    "            #print(\"The value of weights, after binarization\")\n",
    "            #print(self.rp_layer.weight.data)\n",
    "        else:\n",
    "                pass\n",
    "        \n",
    "        return self.activation_binarize(out) if self.binary else out\n",
    "    \n",
    "    #Forward Function\n",
    "    def forward(self, x, embedding=False):\n",
    "        out = self.encoding(x)\n",
    "        if embedding:\n",
    "            out = out\n",
    "        else:\n",
    "            out = self.similarity(class_hvs=binarize_hard(self.class_hvs), enc_hv=out)   \n",
    "        return out\n",
    "    \n",
    "    def init_class(self, x_train, labels_train):\n",
    "        out = self.encoding(x_train)\n",
    "        for i in range(x_train.size()[0]):\n",
    "            self.class_hvs[labels_train[i]] += out[i]\n",
    "\n",
    "        self.class_hvs = binarize_hard(self.class_hvs)\n",
    "        \n",
    "    def HD_train_step(self, x_train, y_train, lr=1.0):\n",
    "        shuffle_idx = torch.randperm(x_train.size()[0])\n",
    "        x_train = x_train[shuffle_idx]\n",
    "        train_labels = y_train[shuffle_idx]\n",
    "        l= list(self.rp_layer.parameters())\n",
    "        enc_hvs = binarize_hard(self.encoding(x_train))\n",
    "        for i in range(enc_hvs.size()[0]):\n",
    "            sims = self.similarity(self.class_hvs, enc_hvs[i].unsqueeze(dim=0))\n",
    "            predict = torch.argmax(sims, dim=1)\n",
    "            \n",
    "            if predict != train_labels[i]:\n",
    "                self.class_hvs_nb[predict] -= lr * enc_hvs[i]\n",
    "                self.class_hvs_nb[train_labels[i]] += lr * enc_hvs[i]\n",
    "            \n",
    "            self.class_hvs.data = binarize_hard(self.class_hvs_nb)\n",
    "    \n",
    "    def similarity(self, class_hvs, enc_hv):\n",
    "\t    return torch.matmul(enc_hv, class_hvs.t())/class_hvs.size()[1]\n",
    "    \n",
    "    "
   ]
  },
  {
   "cell_type": "code",
   "execution_count": 6,
   "metadata": {},
   "outputs": [],
   "source": [
    "nFeatures, nClasses, x_train, y_train, x_test, y_test, train_loader, test_loader\\\n",
    "        = dataset_utils.load_dataset('mnist', 256, \"cpu\")\n"
   ]
  },
  {
   "cell_type": "code",
   "execution_count": 7,
   "metadata": {},
   "outputs": [],
   "source": [
    "\n",
    "model = BinaryModel(dim = nFeatures, D=1000, num_classes=nClasses, enc_type='RP', device=\"cpu\")"
   ]
  },
  {
   "cell_type": "code",
   "execution_count": 8,
   "metadata": {},
   "outputs": [],
   "source": [
    "lr = 0.001\n",
    "distance = distances.CosineSimilarity()\n",
    "reducer = reducers.ThresholdReducer(low=0.0)\n"
   ]
  },
  {
   "cell_type": "code",
   "execution_count": 9,
   "metadata": {},
   "outputs": [],
   "source": [
    "\n",
    "def HD_test(model, x_test, y_test):\n",
    "    out = model(x_test, embedding=False)\n",
    "    preds = torch.argmax(out, dim=-1)\n",
    "\n",
    "    acc = torch.mean((preds==y_test).float())\t\n",
    "    return acc\n",
    "\n",
    "def get_Hamming_margin(model, x_test, y_test=None):\n",
    "\tdef Hamming_distance(a, b):\n",
    "\t\tD = a.size()[1]\n",
    "\t\treturn (D - a @ b.T)/2\n",
    "\n",
    "\t# Compute mean Hamming distance between class HVS\n",
    "\tclass_hvs = binarize_hard(model.class_hvs.data)\n",
    "\tclass_Hamming_distance = Hamming_distance(class_hvs, class_hvs)\n",
    "\tmean_class_Hamming_distance = torch.mean(class_Hamming_distance).item()\n",
    "\t\n",
    "\n",
    "\t# Compute test samples' Hamming distance\n",
    "\ttest_enc_hvs = binarize_hard(model(x_test, True)) \n",
    "\ttest_Hamming_dist = Hamming_distance(test_enc_hvs, class_hvs)\n",
    "\n",
    "\tsorted_test_Hamming_distance, _ = torch.sort(test_Hamming_dist, dim=-1, descending=False)\n",
    "\ttest_enc_hvs_Hamming_margin = (sorted_test_Hamming_distance[:,1:]-sorted_test_Hamming_distance[:,0].unsqueeze(dim=1)).mean(dim=1).cpu()\n",
    "\tmean_test_Hamming_margin = torch.mean(test_enc_hvs_Hamming_margin).item()\n",
    "\n",
    "\tres_dict = {\n",
    "\t\t\"avg_class_Hamming_dist\": mean_class_Hamming_distance,\n",
    "\t\t\"avg_test_Hamming_margin\": mean_test_Hamming_margin\n",
    "\t}\n",
    "\treturn mean_test_Hamming_margin"
   ]
  },
  {
   "cell_type": "code",
   "execution_count": 10,
   "metadata": {},
   "outputs": [],
   "source": [
    "\n",
    "num_metric_epochs = 2\n",
    "device = \"cpu\"\n",
    "accuracies = []\n",
    "accuracies.append(HD_test(model, x_test, y_test).item())\n",
    "margins = []\n",
    "margins.append(get_Hamming_margin(model, x_test, y_test))"
   ]
  },
  {
   "cell_type": "code",
   "execution_count": 11,
   "metadata": {},
   "outputs": [],
   "source": [
    "loss_func = losses.TripletMarginLoss(margin=0.2, distance=distance, reducer=reducer)\n",
    "optimizer = optim.Adam(model.parameters(), lr=lr, weight_decay=0) "
   ]
  },
  {
   "cell_type": "code",
   "execution_count": 12,
   "metadata": {},
   "outputs": [],
   "source": [
    "model.class_hvs = nn.parameter.Parameter(data=model.class_hvs)\n",
    "mining_func = miners.TripletMarginMiner(\n",
    "    margin=0.2, distance=distance, type_of_triplets=\"semihard\", )"
   ]
  },
  {
   "cell_type": "code",
   "execution_count": 13,
   "metadata": {},
   "outputs": [],
   "source": [
    "def metric_train(model, loss_func, mining_func, device, train_loader, optimizer, epoch,segment_length, zeroes):\n",
    "    model.train()\n",
    "    for batch_idx, (data, labels) in enumerate(train_loader):\n",
    "        data, labels = data.to(device), labels.to(device)\n",
    "        optimizer.zero_grad()\n",
    "        embeddings = model(data.reshape(data.size()[0],-1))\n",
    "        indices_tuple = mining_func(embeddings, labels)\n",
    "        loss = loss_func(embeddings,labels,indices_tuple)\n",
    "        #loss = CustomLoss(model, distance = distance,reducer = reducer,dimension = 1000, segment_size = 100, sparsity_factor= 20, penalty_factor = 0.1)\n",
    "        loss.backward()\n",
    "        optimizer.step()\n",
    "    "
   ]
  },
  {
   "cell_type": "code",
   "execution_count": 14,
   "metadata": {},
   "outputs": [
    {
     "name": "stdout",
     "output_type": "stream",
     "text": [
      "Triplet Loss\n",
      "Epoch 1\n",
      "Epoch 2\n"
     ]
    }
   ],
   "source": [
    "### pytorch-metric-learning using Triplet margin loss ###\n",
    "print(\"Triplet Loss\")\n",
    "for epoch_i in range(1, num_metric_epochs + 1):\n",
    "    metric_train(model, loss_func, mining_func, device, train_loader, optimizer, epoch_i,segment_length=50, zeroes=25)\n",
    "    accuracies.append(HD_test(model, x_test, y_test).item())\n",
    "    margins.append(get_Hamming_margin(model, x_test, y_test))\n",
    "    print(\"Epoch\",epoch_i)\n"
   ]
  },
  {
   "cell_type": "code",
   "execution_count": 21,
   "metadata": {},
   "outputs": [
    {
     "name": "stdout",
     "output_type": "stream",
     "text": [
      "True\n"
     ]
    }
   ],
   "source": [
    "import torch\n",
    "weights_updated = torch.zeros(model.rp_layer.weight.size())\n",
    "weights_updated = model.rp_layer.weight.data.clone()   \n",
    "print(torch.equal(weights_updated,model.rp_layer.weight.data))"
   ]
  },
  {
   "cell_type": "code",
   "execution_count": 35,
   "metadata": {},
   "outputs": [
    {
     "name": "stdout",
     "output_type": "stream",
     "text": [
      "tensor([[ 1., -1.,  1.,  ...,  1.,  1.,  1.],\n",
      "        [-1.,  1.,  1.,  ..., -1.,  1.,  1.],\n",
      "        [ 1., -1., -1.,  ..., -1., -1., -1.],\n",
      "        ...,\n",
      "        [ 1., -1., -1.,  ...,  1., -1., -1.],\n",
      "        [ 1., -1., -1.,  ..., -1.,  1., -1.],\n",
      "        [-1.,  1.,  1.,  ..., -1.,  1.,  1.]])\n",
      "tensor(False)\n"
     ]
    }
   ],
   "source": [
    " \n",
    "print(weights_updated)\n",
    "weight_bin= binarize_hard(weights_updated)\n",
    "#print(weight_bin)\n",
    "#histogram = torch.histc(weight_bin, bins=5, min=-1, max=1)\n",
    "#condition = (weight_bin != -1) & (weight_bin != 1)\n",
    "#print(condition)\n",
    "print(torch.any((weight_bin != -1.0) & (weight_bin != 1.0)))\n",
    "#plt.hist(histogram, bins=5, range=(-1, 1))\n",
    "#w = torch.nn.Parameter(torch.randn(1,10))\n",
    "#print(w)\n",
    "#w = binarize_hard(w)\n",
    "#print(w)"
   ]
  },
  {
   "cell_type": "code",
   "execution_count": 37,
   "metadata": {},
   "outputs": [
    {
     "name": "stdout",
     "output_type": "stream",
     "text": [
      "Trained Weights\n",
      "tensor(False)\n"
     ]
    }
   ],
   "source": [
    "\n",
    "#make the binarize function bipolar\n",
    "model.rp_layer.weight.data  = weight_bin.clone()\n",
    "print(\"Trained Weights\")\n",
    "print(torch.any((model.rp_layer.weight.data != -1.0) & (model.rp_layer.weight.data != 1.0)))\n"
   ]
  },
  {
   "cell_type": "code",
   "execution_count": 38,
   "metadata": {},
   "outputs": [],
   "source": [
    "HD_lr = 0.05\n",
    "num_HD_epoch = 20"
   ]
  },
  {
   "cell_type": "code",
   "execution_count": 39,
   "metadata": {},
   "outputs": [
    {
     "name": "stdout",
     "output_type": "stream",
     "text": [
      "Accuracy 0.8788999915122986\n",
      "Class accuracy 0.8788999915122986\n",
      "Epoch 1\n",
      "Accuracy 0.8964999914169312\n",
      "Class accuracy 0.8964999914169312\n",
      "Epoch 2\n",
      "Accuracy 0.8794999718666077\n",
      "Class accuracy 0.8794999718666077\n",
      "Epoch 3\n",
      "Accuracy 0.8837000131607056\n",
      "Class accuracy 0.8837000131607056\n",
      "Epoch 4\n",
      "Accuracy 0.8955000042915344\n",
      "Class accuracy 0.8955000042915344\n",
      "Epoch 5\n",
      "Accuracy 0.892799973487854\n",
      "Class accuracy 0.892799973487854\n",
      "Epoch 6\n",
      "Accuracy 0.8906000256538391\n",
      "Class accuracy 0.8906000256538391\n",
      "Epoch 7\n",
      "Accuracy 0.8762000203132629\n",
      "Class accuracy 0.8762000203132629\n",
      "Epoch 8\n",
      "Accuracy 0.8819000124931335\n",
      "Class accuracy 0.8819000124931335\n",
      "Epoch 9\n",
      "Accuracy 0.8952999711036682\n",
      "Class accuracy 0.8952999711036682\n",
      "Epoch 10\n",
      "Accuracy 0.8849999904632568\n",
      "Class accuracy 0.8849999904632568\n",
      "Epoch 11\n",
      "Accuracy 0.9000999927520752\n",
      "Class accuracy 0.9000999927520752\n",
      "Epoch 12\n",
      "Accuracy 0.8744999766349792\n",
      "Class accuracy 0.8744999766349792\n",
      "Epoch 13\n",
      "Accuracy 0.8830999732017517\n",
      "Class accuracy 0.8830999732017517\n",
      "Epoch 14\n",
      "Accuracy 0.8931000232696533\n",
      "Class accuracy 0.8931000232696533\n",
      "Epoch 15\n",
      "Accuracy 0.8952000141143799\n",
      "Class accuracy 0.8952000141143799\n",
      "Epoch 16\n",
      "Accuracy 0.8827999830245972\n",
      "Class accuracy 0.8827999830245972\n",
      "Epoch 17\n",
      "Accuracy 0.8931000232696533\n",
      "Class accuracy 0.8931000232696533\n",
      "Epoch 18\n",
      "Accuracy 0.8949999809265137\n",
      "Class accuracy 0.8949999809265137\n",
      "Epoch 19\n",
      "Accuracy 0.8967000246047974\n",
      "Class accuracy 0.8967000246047974\n",
      "Epoch 20\n"
     ]
    }
   ],
   "source": [
    "class_accuracies = []\n",
    "class_margins = []\n",
    "for epoch_i in range(1, num_HD_epoch+1):\n",
    "    model.HD_train_step(x_train, y_train, lr=HD_lr)\n",
    "    print(\"Accuracy\",HD_test(model, x_test, y_test).item())\n",
    "    class_accuracies.append(HD_test(model, x_test, y_test).item())\n",
    "    print(\"Class accuracy\", class_accuracies[epoch_i-1])\n",
    "    class_margins.append(get_Hamming_margin(model, x_test, y_test))\n",
    "    print(\"Epoch\",epoch_i)\n",
    "    "
   ]
  },
  {
   "cell_type": "code",
   "execution_count": 42,
   "metadata": {},
   "outputs": [
    {
     "data": {
      "image/png": "[encoded data removed]",
      "text/plain": [
       "<Figure size 640x480 with 1 Axes>"
      ]
     },
     "metadata": {},
     "output_type": "display_data"
    },
    {
     "name": "stdout",
     "output_type": "stream",
     "text": [
      "Maximum Accuracy:0.9391999840736389\n"
     ]
    }
   ],
   "source": [
    "plt.plot(accuracies, label=\"Accuracy\", c = \"blue\")\n",
    "plt.xlabel(\"iterations\")\n",
    "plt.ylabel(\"accuracy\")\n",
    "plt.title(\"Accuracy of 2 Levels, 4000 Dimensions Dataset:mnist\")\n",
    "plt.legend()\n",
    "plt.show()\n",
    "print(\"Maximum Accuracy:{}\".format(max(accuracies)))"
   ]
  },
  {
   "cell_type": "code",
   "execution_count": null,
   "metadata": {},
   "outputs": [],
   "source": []
  }
 ],
 "metadata": {
  "kernelspec": {
   "display_name": "Python 3",
   "language": "python",
   "name": "python3"
  },
  "language_info": {
   "codemirror_mode": {
    "name": "ipython",
    "version": 3
   },
   "file_extension": ".py",
   "mimetype": "text/x-python",
   "name": "python",
   "nbconvert_exporter": "python",
   "pygments_lexer": "ipython3",
   "version": "3.10.7"
  },
  "orig_nbformat": 4
 },
 "nbformat": 4,
 "nbformat_minor": 2
}
