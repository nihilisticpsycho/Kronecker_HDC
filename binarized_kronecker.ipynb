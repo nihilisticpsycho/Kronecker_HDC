{
 "cells": [
  {
   "cell_type": "code",
   "execution_count": 1,
   "metadata": {},
   "outputs": [],
   "source": [
    "import matplotlib.pyplot as plt\n",
    "import numpy as np\n",
    "import seaborn as sns\n",
    "import pandas as pd \n",
    "import torch as torch \n",
    "import torch.nn as nn\n",
    "import torch.optim as optim\n",
    "import dataset_utils\n",
    "import torch.nn.functional as F\n",
    "import torchvision.models as models\n",
    "from pytorch_metric_learning import distances, losses, miners, reducers"
   ]
  },
  {
   "cell_type": "code",
   "execution_count": 2,
   "metadata": {},
   "outputs": [],
   "source": [
    "\n",
    "def binarize_hard(x):\n",
    "    return torch.where(x > 0, 1.0, -1.0)"
   ]
  },
  {
   "cell_type": "code",
   "execution_count": 3,
   "metadata": {},
   "outputs": [],
   "source": [
    "# Reference code\n",
    "class BinaryModel(nn.Module):\n",
    "    def __init__(self, dim, D, num_classes, enc_type='RP', binary=True, device='cpu', kargs=None):\n",
    "        super(BinaryModel, self).__init__()\n",
    "        self.enc_type, self.binary = enc_type, binary\t\n",
    "        self.device = device\n",
    "        if enc_type in ['RP', 'RP-COS']:\n",
    "            self.rp_layer = nn.Linear(dim, D).to(device)\n",
    "            self.class_hvs = torch.zeros(num_classes, D).float().to(device)\n",
    "            self.class_hvs_nb = torch.zeros(num_classes, D).float().to(device)\n",
    "        else:\n",
    "            pass\n",
    "    #hard sigmoid    \n",
    "    def weight_binarize(self, W):\n",
    "       W = torch.where(W<-1,-1,W)\n",
    "       W = torch.where(W>1,1,W)\n",
    "       mask1 = (W >= -1) & (W < 0)\n",
    "       W[mask1] = 2 * W[mask1] + W[mask1]*W[mask1]\n",
    "       mask2 = (W >= 0) & (W < 1)\n",
    "       W[mask2] = 2 * W[mask2] - W[mask2]*W[mask2]\n",
    "       # W[W > 1] = 1\n",
    "       return W\n",
    "    #using Bi-Real Approximation     \n",
    "    def activation_binarize(self,a):\n",
    "       a = torch.where(a<-1,-1,a)\n",
    "       a = torch.where(a>1,1,a)\n",
    "       mask1 = (a >= -1) & (a < 0)\n",
    "       a[mask1] = 2 * a[mask1] + a[mask1]*a[mask1]\n",
    "       #a[mask1] = 0\n",
    "       mask2 = (a >= 0) & (a < 1)\n",
    "       a[mask2] = 2 * a[mask2] - a[mask2]*a[mask2]\n",
    "       #a = torch.where((a >= -1) & (a < 0),2*a + torch.pow(a,2) )\n",
    "       #a = torch.where((a >= 0) & (a < 1), 2*a- torch.pow(a,2))\n",
    "    #    a [a < -1] = -1\n",
    "    #    a [a > 1]   =  1\n",
    "    #    a [(a >= -1) & (a < 0)] = 2*a[(a >= -1) & (a < 0)] + torch.pow(a [(a >= -1) & (a < 0)],2)\n",
    "    #    a [(a >= 0) & (a < 1)] = 2*a[(a >= 0) & (a < 1)] - torch.pow(a [(a >= 0) & (a < 1)],2)\n",
    "       return a\n",
    "\n",
    "    def encoding(self, x):\n",
    "        if self.enc_type == 'RP':\n",
    "            #x = self.activation_binarize(x) \n",
    "            #need not binarize the inputs \n",
    "            #progressively binarize the inputs, after training the weights\n",
    "            #add some print statements and check \n",
    "            #print(\"The value of weights, before binarization\")\n",
    "            #print(self.rp_layer.weight.data)\n",
    "            weights = self.rp_layer.weight.data.clone()\n",
    "            weights_bin = self.weight_binarize(weights)\n",
    "            self.rp_layer.weight.data = weights_bin.clone() \n",
    "            out = self.rp_layer(x)\n",
    "            #print(\"The value of weights, after binarization\")\n",
    "            #print(self.rp_layer.weight.data)\n",
    "        else:\n",
    "                pass\n",
    "        \n",
    "        return self.activation_binarize(out) if self.binary else out\n",
    "    \n",
    "    #Forward Function\n",
    "    def forward(self, x, embedding=False):\n",
    "        out = self.encoding(x)\n",
    "        if embedding:\n",
    "            out = out\n",
    "        else:\n",
    "            out = self.similarity(class_hvs=binarize_hard(self.class_hvs), enc_hv=out)   \n",
    "        return out\n",
    "    \n",
    "    def init_class(self, x_train, labels_train):\n",
    "        out = self.encoding(x_train)\n",
    "        if self.binary:\n",
    "            out = binarize_hard(out)\n",
    "\n",
    "        for i in range(x_train.size()[0]):\n",
    "            self.class_hvs[labels_train[i]] += out[i]\n",
    "        \n",
    "        if self.binary:\n",
    "            self.class_hvs = binarize_hard(self.class_hvs)\n",
    "\n",
    "\n",
    "        \n",
    "    def HD_train_step(self, x_train, y_train, lr=1.0):\n",
    "        shuffle_idx = torch.randperm(x_train.size()[0])\n",
    "        x_train = x_train[shuffle_idx]\n",
    "        train_labels = y_train[shuffle_idx]\n",
    "        l= list(self.rp_layer.parameters())\n",
    "        enc_hvs = binarize_hard(self.encoding(x_train))\n",
    "        for i in range(enc_hvs.size()[0]):\n",
    "            sims = self.similarity(self.class_hvs, enc_hvs[i].unsqueeze(dim=0))\n",
    "            predict = torch.argmax(sims, dim=1)\n",
    "            \n",
    "            if predict != train_labels[i]:\n",
    "                self.class_hvs_nb[predict] -= lr * enc_hvs[i]\n",
    "                self.class_hvs_nb[train_labels[i]] += lr * enc_hvs[i]\n",
    "            \n",
    "            self.class_hvs.data = binarize_hard(self.class_hvs_nb)\n",
    "    \n",
    "    def similarity(self, class_hvs, enc_hv):\n",
    "\t    return torch.matmul(enc_hv, class_hvs.t())/class_hvs.size()[1]\n",
    "    \n",
    "    "
   ]
  },
  {
   "cell_type": "code",
   "execution_count": 4,
   "metadata": {},
   "outputs": [],
   "source": [
    "nFeatures, nClasses, x_train, y_train, x_test, y_test, train_loader, test_loader\\\n",
    "        = dataset_utils.load_dataset('mnist', 256, \"cpu\")\n"
   ]
  },
  {
   "cell_type": "code",
   "execution_count": 5,
   "metadata": {},
   "outputs": [],
   "source": [
    "from torch.utils.data import DataLoader, Subset\n",
    "from torchvision import datasets, transforms\n",
    "num_samples = 500\n",
    "train_loader_truncated = Subset(train_loader.dataset, range(num_samples))\n",
    "train_loader_truncated = DataLoader(train_loader_truncated, batch_size=256, shuffle=True)\n"
   ]
  },
  {
   "cell_type": "code",
   "execution_count": 6,
   "metadata": {},
   "outputs": [],
   "source": [
    "D = 1000\n"
   ]
  },
  {
   "cell_type": "code",
   "execution_count": 7,
   "metadata": {},
   "outputs": [],
   "source": [
    "\n",
    "model = BinaryModel(dim = nFeatures, D=D, num_classes=nClasses, enc_type='RP', device=\"cpu\")\n"
   ]
  },
  {
   "cell_type": "code",
   "execution_count": 8,
   "metadata": {},
   "outputs": [],
   "source": [
    "\n",
    "model.init_class( x_train=x_train, labels_train=y_train)"
   ]
  },
  {
   "cell_type": "code",
   "execution_count": 23,
   "metadata": {},
   "outputs": [],
   "source": [
    "lr = 0.0001\n"
   ]
  },
  {
   "cell_type": "code",
   "execution_count": 10,
   "metadata": {},
   "outputs": [],
   "source": [
    "\n",
    "distance = distances.CosineSimilarity()\n",
    "reducer = reducers.ThresholdReducer(low=-1,high=1)\n",
    "#distance = distances.LpDistance(normalize_embeddings=True, p=2, power=1)\n",
    "#reducer = reducers.MeanReducer()"
   ]
  },
  {
   "cell_type": "code",
   "execution_count": 24,
   "metadata": {},
   "outputs": [],
   "source": [
    "\n",
    "def HD_test(model, x_test, y_test):\n",
    "    #out = model(x_test, embedding=False)\n",
    "\tout = model(x_test)\n",
    "\tpreds = torch.argmax(out, dim=-1)\n",
    "\tacc = torch.mean((preds==y_test).float())\t\n",
    "\treturn acc\n",
    "\n",
    "def get_Hamming_margin(model, x_test, y_test=None):\n",
    "\tdef Hamming_distance(a, b):\n",
    "\t\tD = a.size()[1]\n",
    "\t\treturn (D - a @ b.T)/2\n",
    "\n",
    "\t# Compute mean Hamming distance between class HVS\n",
    "\tclass_hvs = binarize_hard(model.class_hvs.data)\n",
    "\tclass_Hamming_distance = Hamming_distance(class_hvs, class_hvs)\n",
    "\tmean_class_Hamming_distance = torch.mean(class_Hamming_distance).item()\n",
    "\t\n",
    "\n",
    "\t# Compute test samples' Hamming distance\n",
    "\ttest_enc_hvs = binarize_hard(model(x_test, True)) \n",
    "\ttest_Hamming_dist = Hamming_distance(test_enc_hvs, class_hvs)\n",
    "\n",
    "\tsorted_test_Hamming_distance, _ = torch.sort(test_Hamming_dist, dim=-1, descending=False)\n",
    "\ttest_enc_hvs_Hamming_margin = (sorted_test_Hamming_distance[:,1:]-sorted_test_Hamming_distance[:,0].unsqueeze(dim=1)).mean(dim=1).cpu()\n",
    "\tmean_test_Hamming_margin = torch.mean(test_enc_hvs_Hamming_margin).item()\n",
    "\n",
    "\tres_dict = {\n",
    "\t\t\"avg_class_Hamming_dist\": mean_class_Hamming_distance,\n",
    "\t\t\"avg_test_Hamming_margin\": mean_test_Hamming_margin\n",
    "\t}\n",
    "\treturn mean_test_Hamming_margin"
   ]
  },
  {
   "cell_type": "code",
   "execution_count": 25,
   "metadata": {},
   "outputs": [],
   "source": [
    "num_metric_epochs = 4\n",
    "device = \"cpu\"\n",
    "accuracies = []\n",
    "accuracies.append(HD_test(model, x_test, y_test).item())\n",
    "margins = []\n",
    "margins.append(get_Hamming_margin(model, x_test, y_test))"
   ]
  },
  {
   "cell_type": "code",
   "execution_count": 26,
   "metadata": {},
   "outputs": [],
   "source": [
    "\n",
    "loss_func = losses.TripletMarginLoss(margin=0.2, distance=distance, reducer=reducer)\n"
   ]
  },
  {
   "cell_type": "code",
   "execution_count": 27,
   "metadata": {},
   "outputs": [],
   "source": [
    "\n",
    "optimizer = optim.Adam(model.parameters(), lr=lr, weight_decay=0) \n"
   ]
  },
  {
   "cell_type": "code",
   "execution_count": 28,
   "metadata": {},
   "outputs": [],
   "source": [
    "\n",
    "model.class_hvs = nn.parameter.Parameter(data=model.class_hvs)\n",
    "mining_func = miners.TripletMarginMiner(\n",
    "    margin=0.2, distance=distance, type_of_triplets=\"semihard\", )"
   ]
  },
  {
   "cell_type": "code",
   "execution_count": 29,
   "metadata": {},
   "outputs": [],
   "source": [
    "def metric_train(model, mining_func, device, train_loader, optimizer, epoch,segment_length, zeroes):\n",
    "    model.train()\n",
    "    for batch_idx, (data, labels) in enumerate(train_loader):\n",
    "        data, labels = data.to(device), labels.to(device)\n",
    "        optimizer.zero_grad()\n",
    "        embeddings = model(data.reshape(data.size()[0],-1))\n",
    "        indices_tuple = mining_func(embeddings, labels)\n",
    "        loss = loss_func(embeddings,labels,indices_tuple)\n",
    "        loss.backward()\n",
    "        optimizer.step()\n",
    "    "
   ]
  },
  {
   "cell_type": "code",
   "execution_count": 30,
   "metadata": {},
   "outputs": [
    {
     "name": "stdout",
     "output_type": "stream",
     "text": [
      "Triplet Loss\n",
      "Epoch 1\n",
      "Accuracy 0.8830999732017517\n",
      "Epoch 2\n",
      "Accuracy 0.8831999897956848\n",
      "Epoch 3\n",
      "Accuracy 0.8830000162124634\n",
      "Epoch 4\n",
      "Accuracy 0.8830000162124634\n"
     ]
    }
   ],
   "source": [
    "### pytorch-metric-learning using Triplet margin loss ###\n",
    "print(\"Triplet Loss\")\n",
    "for epoch_i in range(1, num_metric_epochs + 1):\n",
    "    metric_train(model, mining_func, device, train_loader, optimizer, epoch_i,segment_length=50, zeroes=25)\n",
    "    accuracies.append(HD_test(model, x_test, y_test).item())\n",
    "    margins.append(get_Hamming_margin(model, x_test, y_test))\n",
    "    print(\"Epoch\",epoch_i)\n",
    "    print(\"Accuracy\",accuracies[epoch_i])\n"
   ]
  },
  {
   "cell_type": "code",
   "execution_count": 31,
   "metadata": {},
   "outputs": [
    {
     "name": "stdout",
     "output_type": "stream",
     "text": [
      "Epoch 1\n",
      "Epoch 2\n",
      "Epoch 3\n",
      "Epoch 4\n",
      "Epoch 5\n",
      "Epoch 6\n",
      "Epoch 7\n",
      "Epoch 8\n",
      "Epoch 9\n",
      "Epoch 10\n",
      "Epoch 11\n",
      "Epoch 12\n",
      "Epoch 13\n",
      "Epoch 14\n",
      "Epoch 15\n",
      "Epoch 16\n",
      "Epoch 17\n",
      "Epoch 18\n",
      "Epoch 19\n",
      "Epoch 20\n"
     ]
    }
   ],
   "source": [
    "num_HD_epoch = 20\n",
    "HD_lr = 1\n",
    "class_accuracies = []\n",
    "class_margins = []\n",
    "for epoch_i in range(1, num_HD_epoch+1):\n",
    "    model.HD_train_step(x_train, y_train, lr=HD_lr)\n",
    "    accuracies.append(HD_test(model, x_test, y_test).item())\n",
    "    margins.append(get_Hamming_margin(model, x_test, y_test))\n",
    "    print(\"Epoch\",epoch_i)\n"
   ]
  },
  {
   "cell_type": "code",
   "execution_count": 32,
   "metadata": {},
   "outputs": [
    {
     "data": {
      "image/png": "[encoded data removed]",
      "text/plain": [
       "<Figure size 640x480 with 1 Axes>"
      ]
     },
     "metadata": {},
     "output_type": "display_data"
    },
    {
     "name": "stdout",
     "output_type": "stream",
     "text": [
      "Maximum Accuracy:0.8977000117301941\n"
     ]
    }
   ],
   "source": [
    "plt.plot(accuracies, label=\"Accuracy\", c = \"blue\")\n",
    "plt.xlabel(\"iterations\")\n",
    "plt.ylabel(\"accuracy\")\n",
    "plt.title(f\"Accuracy of 2 Levels, \"+ str(D) + \"Dimensions Dataset:mnist\")\n",
    "plt.legend()\n",
    "plt.show()\n",
    "print(\"Maximum Accuracy:{}\".format(max(accuracies)))"
   ]
  },
  {
   "cell_type": "code",
   "execution_count": null,
   "metadata": {},
   "outputs": [],
   "source": [
    "from gkpd import gkpd\n",
    "from gkpd.tensorops import kron\n",
    "from gkpd.tensorops import multidimensional_slice"
   ]
  },
  {
   "cell_type": "code",
   "execution_count": null,
   "metadata": {},
   "outputs": [],
   "source": [
    "\n",
    "class KroneckerDecomposition_new(nn.Module):\n",
    "    def __init__(self, A, B, C, dim, D, num_classes):\n",
    "        super(KroneckerDecomposition_new, self).__init__()\n",
    "        self.A = torch.nn.Parameter(torch.tensor(A))\n",
    "        self.B = torch.nn.Parameter(torch.tensor(B))\n",
    "        self.C = torch.nn.Parameter(torch.tensor(C))\n",
    "        self.class_hvs = torch.zeros(num_classes, D).float().to(device)\n",
    "        self.class_hvs_nb = torch.zeros(num_classes, D).float().to(device)\n",
    "\n",
    "    def weight_binarize(self, W):\n",
    "       W = torch.where(W<-1,-1,W)\n",
    "       W = torch.where(W>1,1,W)\n",
    "       mask1 = (W >= -1) & (W < 0)\n",
    "       W[mask1] = 2 * W[mask1] + W[mask1]*W[mask1]\n",
    "       mask2 = (W >= 0) & (W < 1)\n",
    "       W[mask2] = 2 * W[mask2] - W[mask2]*W[mask2]\n",
    "       W = W.float()\n",
    "       return W\n",
    "        \n",
    "    def forward(self,x, embedding=False):\n",
    "        out = self.encoding(x)\n",
    "        if embedding:\n",
    "            out = out\n",
    "        else:\n",
    "            out = self.similarity(class_hvs=binarize_hard(self.class_hvs), enc_hv=out)   \n",
    "        return out\n",
    "    \n",
    "    def encoding(self,x):\n",
    "        #print(\"Entering Encoding\")\n",
    "        #Comment\n",
    "        #Can try to run without binarizing also \n",
    "        #Comment\n",
    "        # the next two lines can be commented\n",
    "        #bin_A = self.weight_binarize(self.A)\n",
    "        #bin_B = self.weight_binarize(self.B)\n",
    "        #print(\"Finished binarizing\")\n",
    "        #Comment\n",
    "        #change to kronecker product\n",
    "        weight_kron = kron(self.A, self.B)\n",
    "        #weight_kron = gkpd(weight_kron,tensor.ones(rank,))\n",
    "        #print(\"Finished kron\")\n",
    "        weight_kron_size = list(weight_kron.size())\n",
    "        weight_kron = weight_kron.view(weight_kron_size[0],weight_kron_size[1])\n",
    "        #print(\"Finished reshape\")\n",
    "        out = torch.matmul(x,weight_kron.t())\n",
    "        #print(\"Encoding Done\")\n",
    "        return self.weight_binarize(out)\n",
    "    \n",
    "    def init_class(self, x_train, labels_train):\n",
    "        out = self.encoding(x_train)\n",
    "        for i in range(x_train.size()[0]):\n",
    "            self.class_hvs[labels_train[i]] += out[i]\n",
    "\n",
    "        self.class_hvs = binarize_hard(self.class_hvs)\n",
    "    \n",
    "    def HD_train_step(self, x_train, y_train, lr=1.0):\n",
    "        shuffle_idx = torch.randperm(x_train.size()[0])\n",
    "        x_train = x_train[shuffle_idx]\n",
    "        train_labels = y_train[shuffle_idx]\n",
    "        #l= list(self.rp_layer.parameters())\n",
    "        enc_hvs = binarize_hard(self.encoding(x_train))\n",
    "        for i in range(enc_hvs.size()[0]):\n",
    "            sims = self.similarity(self.class_hvs, enc_hvs[i].unsqueeze(dim=0))\n",
    "            predict = torch.argmax(sims, dim=1)\n",
    "            \n",
    "            if predict != train_labels[i]:\n",
    "                self.class_hvs_nb[predict] -= lr * enc_hvs[i]\n",
    "                self.class_hvs_nb[train_labels[i]] += lr * enc_hvs[i]\n",
    "            \n",
    "            self.class_hvs.data = binarize_hard(self.class_hvs_nb)\n",
    "    \n",
    "    def similarity(self, class_hvs, enc_hv):\n",
    "\t    return torch.matmul(enc_hv, class_hvs.t())/class_hvs.size()[1]\n",
    "    \n",
    "    \n"
   ]
  },
  {
   "cell_type": "code",
   "execution_count": null,
   "metadata": {},
   "outputs": [],
   "source": [
    "def  metric_train_svd (model, loss_func, mining_func, device, train_loader, optimizer):\n",
    "    model.train()\n",
    "    print(\"Metric train\")\n",
    "    for batch_idx, (data, labels) in enumerate(train_loader):\n",
    "        data, labels = data.to(device), labels.to(device)\n",
    "        optimizer.zero_grad()\n",
    "        embeddings = model(data.reshape(data.size()[0],-1))\n",
    "        indices_tuple = mining_func(embeddings, labels)\n",
    "        loss = loss_func(embeddings,labels,indices_tuple)\n",
    "        loss.backward()\n",
    "        optimizer.step()\n"
   ]
  },
  {
   "cell_type": "code",
   "execution_count": null,
   "metadata": {},
   "outputs": [],
   "source": [
    "import math as math\n",
    "w = model.rp_layer.weight\n",
    "w = w.view(D,nFeatures,1,1)\n",
    "print(w.shape)\n",
    "rank = \n",
    "#find the \n",
    "#make the dimensions less flat, more square kind of thing\n",
    "#try more number of factors, more than 2 \n",
    "#can try high D dimensions = 10,0000\n",
    "a_shape, b_shape , c_shape = (rank, 2, 2, 1, 1), (rank, 250, 2, 1, 1) , (rank, 2,196,1,1)\n",
    "a_b_shape = (rank, a_shape[1]*b_shape[1], a_shape[2]*b_shape[2], a_shape[3]*b_shape[3],a_shape[4]*b_shape[4])\n",
    "#a_shape, b_shape, c_shape = (rank, 25, int(math.sqrt(nFeatures)), 1, 1), (rank, 40, int(math.sqrt(nFeatures)), 1, 1), (rank, )\n",
    "#a_hat, b_hat = gkpd(w, a_shape[1:], b_shape[1:])\n",
    "a_b_hat, c_hat = gkpd(w, a_b_shape[1:], c_shape[1:])\n",
    "w_hat = kron(a_b_hat, torch.ones(rank,1,1,1,1))\n",
    "a_hat, b_hat =gkpd(w_hat, a_shape[1:], b_shape[1:])\n",
    "\n",
    "# Reconstruction error\n",
    "#print(\"Reconstruction error: {}\".format(\n",
    "#round((torch.linalg.norm((w.reshape(-1) - w_hat.reshape(-1))).detach().numpy()).item(), 4)\n",
    "#))\n"
   ]
  },
  {
   "cell_type": "code",
   "execution_count": null,
   "metadata": {},
   "outputs": [],
   "source": [
    "from torch.utils.data import DataLoader, Subset\n",
    "from torchvision import datasets, transforms\n",
    "\n",
    "kronecker_model = KroneckerDecomposition_new(A=a_hat,B=b_hat,dim = nFeatures, D=D, num_classes=nClasses)\n",
    "lr = 0.1\n",
    "loss_func = losses.TripletMarginLoss(margin=0.2, distance=distance, reducer=reducer)\n",
    "optimizer = optim.Adam(kronecker_model.parameters(), lr=lr, weight_decay=0) \n",
    "kronecker_model.class_hvs = nn.parameter.Parameter(data=kronecker_model.class_hvs)\n",
    "kronecker_accuracies = []\n",
    "kronecker_margins = []\n",
    "kronecker_accuracies.append(HD_test(kronecker_model, x_test, y_test).item())\n",
    "print(\"first accuracy\",kronecker_accuracies[0])\n",
    "#find the initial accuracy right after this\n",
    "kronecker_margins.append(get_Hamming_margin(kronecker_model, x_test, y_test))\n",
    "num_samples = 1000\n",
    "train_loader_truncated = Subset(train_loader.dataset, range(num_samples))\n",
    "train_loader_truncated = DataLoader(train_loader_truncated, batch_size=256, shuffle=True)"
   ]
  },
  {
   "cell_type": "code",
   "execution_count": null,
   "metadata": {},
   "outputs": [],
   "source": [
    "num_metric_epochs = 1\n",
    "print(\"Triplet Loss\")\n",
    "for epoch_i in range(1, num_metric_epochs + 1):\n",
    "    metric_train_svd(kronecker_model, loss_func, mining_func, device, train_loader_truncated, optimizer)\n",
    "    #print(\"metric_Train_done\")\n",
    "    kronecker_accuracies.append(HD_test(kronecker_model, x_test, y_test).item())\n",
    "    #print(\"accuracies done\")\n",
    "    kronecker_margins.append(get_Hamming_margin(kronecker_model, x_test, y_test))\n",
    "    #print(\"margins done\")\n",
    "    #print(\"Epoch\",epoch_i)\n",
    "    #Comment\n",
    "    #Take a note of the first accuracy\n",
    "    print(\"Accuracies\",HD_test(kronecker_model, x_test, y_test).item())"
   ]
  },
  {
   "cell_type": "code",
   "execution_count": null,
   "metadata": {},
   "outputs": [],
   "source": [
    "# A_updated = torch.zeros(kronecker_model.A.size())\n",
    "# A_updated = kronecker_model.A.clone()    \n",
    "# A_updated = binarize_hard(A_updated)\n",
    "# kronecker_model.A.data = A_updated.clone()\n",
    "# #sanity check for A\n",
    "# print(torch.any((kronecker_model.A.data != -1.0) & (kronecker_model.A.data != 1.0)))\n",
    "# B_updated = torch.zeros(kronecker_model.B.size())\n",
    "# B_updated = kronecker_model.B.clone()    \n",
    "# B_updated = binarize_hard(B_updated)\n",
    "# kronecker_model.B.data = B_updated.clone()\n",
    "# #sanity check for B\n",
    "# print(torch.any((kronecker_model.B.data != -1.0) & (kronecker_model.B.data != 1.0)))"
   ]
  },
  {
   "cell_type": "code",
   "execution_count": null,
   "metadata": {},
   "outputs": [],
   "source": [
    "num_HD_epoch = 20\n",
    "kronecker_class_accuracies = []\n",
    "kronecker_class_margins = []\n",
    "for epoch_i in range(1, num_HD_epoch+1):\n",
    "    kronecker_model.HD_train_step(x_train, y_train, lr=HD_lr)\n",
    "    #Comment\n",
    "    #Wrong accuracies\n",
    "    #retrain again \n",
    "    kronecker_class_accuracies.append(HD_test(kronecker_model, x_test, y_test).item())\n",
    "    kronecker_class_margins.append(get_Hamming_margin(kronecker_model, x_test, y_test))"
   ]
  },
  {
   "cell_type": "code",
   "execution_count": null,
   "metadata": {},
   "outputs": [],
   "source": [
    "plt.plot(kronecker_class_accuracies, label=\"Accuracy\", c = \"blue\")\n",
    "plt.xlabel(\"iterations\")\n",
    "plt.ylabel(\"accuracy\")\n",
    "plt.title(\"Accuracy of 2 Levels\"+D+\"Dimensions Dataset:mnist\")\n",
    "plt.legend()\n",
    "plt.show()\n",
    "print(\"Maximum Accuracy:{}\".format(max(kronecker_class_accuracies)))"
   ]
  }
 ],
 "metadata": {
  "kernelspec": {
   "display_name": "Python 3",
   "language": "python",
   "name": "python3"
  },
  "language_info": {
   "codemirror_mode": {
    "name": "ipython",
    "version": 3
   },
   "file_extension": ".py",
   "mimetype": "text/x-python",
   "name": "python",
   "nbconvert_exporter": "python",
   "pygments_lexer": "ipython3",
   "version": "3.10.7"
  },
  "orig_nbformat": 4
 },
 "nbformat": 4,
 "nbformat_minor": 2
}
