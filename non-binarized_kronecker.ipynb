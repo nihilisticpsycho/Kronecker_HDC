{
 "cells": [
  {
   "cell_type": "code",
   "execution_count": 1,
   "metadata": {},
   "outputs": [],
   "source": [
    "import matplotlib.pyplot as plt\n",
    "import numpy as np\n",
    "import seaborn as sns\n",
    "import pandas as pd \n",
    "import torch as torch \n",
    "import torch.nn as nn\n",
    "import torch.optim as optim\n",
    "import dataset_utils\n",
    "import torch.nn.functional as F\n",
    "import torchvision.models as models\n",
    "from pytorch_metric_learning import distances, losses, miners, reducers"
   ]
  },
  {
   "cell_type": "code",
   "execution_count": 2,
   "metadata": {},
   "outputs": [],
   "source": [
    "def binarize_hard(x):\n",
    "    return torch.where(x > 0, 1.0, -1.0)"
   ]
  },
  {
   "cell_type": "code",
   "execution_count": 3,
   "metadata": {},
   "outputs": [],
   "source": [
    "def binarize_soft(x):\n",
    "    return torch.tanh(x)"
   ]
  },
  {
   "cell_type": "code",
   "execution_count": 4,
   "metadata": {},
   "outputs": [],
   "source": [
    "# Reference code\n",
    "class BinaryModel(nn.Module):\n",
    "    def __init__(self, dim, D, num_classes, enc_type='RP', binary=True, device='cuda', kargs=None):\n",
    "        super(BinaryModel, self).__init__()\n",
    "        self.enc_type, self.binary = enc_type, binary\t\n",
    "        self.device = device\n",
    "        if enc_type in ['RP', 'RP-COS']:\n",
    "            self.rp_layer = nn.Linear(dim, D).to(device)\n",
    "            self.class_hvs = torch.zeros(num_classes, D).float().to(device)\n",
    "            self.class_hvs_nb = torch.zeros(num_classes, D).float().to(device)\n",
    "        else:\n",
    "            pass\n",
    "    #hard sigmoid    \n",
    "    def weight_binarize(self, W):\n",
    "       W = torch.where(W<-1,-1,W)\n",
    "       W = torch.where(W>1,1,W)\n",
    "       mask1 = (W >= -1) & (W < 0)\n",
    "       W[mask1] = 2 * W[mask1] + W[mask1]*W[mask1]\n",
    "       mask2 = (W >= 0) & (W < 1)\n",
    "       W[mask2] = 2 * W[mask2] - W[mask2]*W[mask2]\n",
    "       # W[W > 1] = 1\n",
    "       return W\n",
    "    #using Bi-Real Approximation     \n",
    "    def activation_binarize(self,a):\n",
    "       a = torch.where(a<-1,-1,a)\n",
    "       a = torch.where(a>1,1,a)\n",
    "       mask1 = (a >= -1) & (a < 0)\n",
    "       a[mask1] = 2 * a[mask1] + a[mask1]*a[mask1]\n",
    "       #a[mask1] = 0\n",
    "       mask2 = (a >= 0) & (a < 1)\n",
    "       a[mask2] = 2 * a[mask2] - a[mask2]*a[mask2]\n",
    "       #a = torch.where((a >= -1) & (a < 0),2*a + torch.pow(a,2) )\n",
    "       #a = torch.where((a >= 0) & (a < 1), 2*a- torch.pow(a,2))\n",
    "    #    a [a < -1] = -1\n",
    "    #    a [a > 1]   =  1\n",
    "    #    a [(a >= -1) & (a < 0)] = 2*a[(a >= -1) & (a < 0)] + torch.pow(a [(a >= -1) & (a < 0)],2)\n",
    "    #    a [(a >= 0) & (a < 1)] = 2*a[(a >= 0) & (a < 1)] - torch.pow(a [(a >= 0) & (a < 1)],2)\n",
    "       return a\n",
    "\n",
    "    def encoding(self, x):\n",
    "        if self.enc_type == 'RP':\n",
    "            #x = self.activation_binarize(x) \n",
    "            #need not binarize the inputs \n",
    "            #progressively binarize the inputs, after training the weights\n",
    "            #add some print statements and check \n",
    "            #print(\"The value of weights, before binarization\")\n",
    "            #print(self.rp_layer.weight.data)\n",
    "            #weights = self.rp_layer.weight.data.clone()\n",
    "            #weights_bin = self.weight_binarize(weights)\n",
    "            #self.rp_layer.weight.data = weights_bin.clone() \n",
    "            out = self.rp_layer(x)\n",
    "            #print(\"The value of weights, after binarization\")\n",
    "            #print(self.rp_layer.weight.data)\n",
    "        else:\n",
    "                pass\n",
    "        \n",
    "        return binarize_soft(out) if self.binary else out\n",
    "    \n",
    "    #Forward Function\n",
    "    def forward(self, x, embedding=False):\n",
    "        out = self.encoding(x)\n",
    "        if embedding:\n",
    "            out = out\n",
    "        else:\n",
    "            out = self.similarity(class_hvs=binarize_hard(self.class_hvs), enc_hv=out)   \n",
    "        return out\n",
    "    \n",
    "    def init_class(self, x_train, labels_train):\n",
    "        out = self.encoding(x_train)\n",
    "        if self.binary:\n",
    "            out = binarize_hard(out)\n",
    "\n",
    "        for i in range(x_train.size()[0]):\n",
    "            self.class_hvs[labels_train[i]] += out[i]\n",
    "        \n",
    "        if self.binary:\n",
    "            self.class_hvs = binarize_hard(self.class_hvs)\n",
    "        \n",
    "    def HD_train_step(self, x_train, y_train, lr=1.0):\n",
    "        shuffle_idx = torch.randperm(x_train.size()[0])\n",
    "        x_train = x_train[shuffle_idx]\n",
    "        train_labels = y_train[shuffle_idx]\n",
    "        l= list(self.rp_layer.parameters())\n",
    "        enc_hvs = binarize_hard(self.encoding(x_train))\n",
    "        for i in range(enc_hvs.size()[0]):\n",
    "            sims = self.similarity(self.class_hvs, enc_hvs[i].unsqueeze(dim=0))\n",
    "            predict = torch.argmax(sims, dim=1)\n",
    "            \n",
    "            if predict != train_labels[i]:\n",
    "                self.class_hvs_nb[predict] -= lr * enc_hvs[i]\n",
    "                self.class_hvs_nb[train_labels[i]] += lr * enc_hvs[i]\n",
    "            \n",
    "            self.class_hvs.data = binarize_hard(self.class_hvs_nb)\n",
    "    \n",
    "    def similarity(self, class_hvs, enc_hv):\n",
    "\t    return torch.matmul(enc_hv, class_hvs.t())/class_hvs.size()[1]\n",
    "    \n",
    "    "
   ]
  },
  {
   "cell_type": "code",
   "execution_count": 5,
   "metadata": {},
   "outputs": [],
   "source": [
    "nFeatures, nClasses, x_train, y_train, x_test, y_test, train_loader, test_loader\\\n",
    "        = dataset_utils.load_dataset('mnist', 64, \"cuda\")\n"
   ]
  },
  {
   "cell_type": "code",
   "execution_count": 6,
   "metadata": {},
   "outputs": [],
   "source": [
    "from torch.utils.data import DataLoader, Subset\n",
    "from torchvision import datasets, transforms\n",
    "num_samples = 500\n",
    "train_loader_truncated = Subset(train_loader.dataset, range(num_samples))\n",
    "train_loader_truncated = DataLoader(train_loader_truncated, batch_size=64, shuffle=True)"
   ]
  },
  {
   "cell_type": "code",
   "execution_count": 7,
   "metadata": {},
   "outputs": [],
   "source": [
    "D = 2000\n"
   ]
  },
  {
   "cell_type": "code",
   "execution_count": 8,
   "metadata": {},
   "outputs": [
    {
     "name": "stdout",
     "output_type": "stream",
     "text": [
      "2.0.1+cu118\n"
     ]
    }
   ],
   "source": [
    "print(torch.__version__)"
   ]
  },
  {
   "cell_type": "code",
   "execution_count": 8,
   "metadata": {},
   "outputs": [],
   "source": [
    "model = BinaryModel(dim = nFeatures, D=D, num_classes=nClasses, enc_type='RP', device=\"cuda\")"
   ]
  },
  {
   "cell_type": "code",
   "execution_count": 18,
   "metadata": {},
   "outputs": [],
   "source": [
    "\n",
    "model.init_class(x_train = x_train, labels_train=y_train)\n"
   ]
  },
  {
   "cell_type": "code",
   "execution_count": 19,
   "metadata": {},
   "outputs": [],
   "source": [
    "lr = 0.0001\n"
   ]
  },
  {
   "cell_type": "code",
   "execution_count": 19,
   "metadata": {},
   "outputs": [],
   "source": [
    "\n",
    "distance = distances.CosineSimilarity()\n",
    "reducer = reducers.ThresholdReducer(low=-1,high=1)\n",
    "#distance = distances.LpDistance(normalize_embeddings=True, p=2, power=1)\n",
    "#reducer = reducers.MeanReducer()"
   ]
  },
  {
   "cell_type": "code",
   "execution_count": 24,
   "metadata": {},
   "outputs": [],
   "source": [
    "\n",
    "def HD_test(model, x_test, y_test):\n",
    "    #out = model(x_test, embedding=False)\n",
    "\tout = model(x_test)\n",
    "\tpreds = torch.argmax(out, dim=-1)\n",
    "\tacc = torch.mean((preds==y_test).float())\t\n",
    "\treturn acc\n",
    "\n",
    "def get_Hamming_margin(model, x_test, y_test=None):\n",
    "\tdef Hamming_distance(a, b):\n",
    "\t\tD = a.size()[1]\n",
    "\t\treturn (D - a @ b.T)/2\n",
    "\n",
    "\t# Compute mean Hamming distance between class HVS\n",
    "\tclass_hvs = binarize_hard(model.class_hvs.data)\n",
    "\tclass_Hamming_distance = Hamming_distance(class_hvs, class_hvs)\n",
    "\tmean_class_Hamming_distance = torch.mean(class_Hamming_distance).item()\n",
    "\t\n",
    "\n",
    "\t# Compute test samples' Hamming distance\n",
    "\ttest_enc_hvs = binarize_hard(model(x_test, True)) \n",
    "\ttest_Hamming_dist = Hamming_distance(test_enc_hvs, class_hvs)\n",
    "\n",
    "\tsorted_test_Hamming_distance, _ = torch.sort(test_Hamming_dist, dim=-1, descending=False)\n",
    "\ttest_enc_hvs_Hamming_margin = (sorted_test_Hamming_distance[:,1:]-sorted_test_Hamming_distance[:,0].unsqueeze(dim=1)).mean(dim=1).cpu()\n",
    "\tmean_test_Hamming_margin = torch.mean(test_enc_hvs_Hamming_margin).item()\n",
    "\n",
    "\tres_dict = {\n",
    "\t\t\"avg_class_Hamming_dist\": mean_class_Hamming_distance,\n",
    "\t\t\"avg_test_Hamming_margin\": mean_test_Hamming_margin\n",
    "\t}\n",
    "\treturn mean_test_Hamming_margin"
   ]
  },
  {
   "cell_type": "code",
   "execution_count": 22,
   "metadata": {},
   "outputs": [],
   "source": [
    "num_metric_epochs = 4\n",
    "device = \"cuda\"\n",
    "accuracies = []\n",
    "accuracies.append(HD_test(model, x_test, y_test).item())\n",
    "margins = []\n",
    "margins.append(get_Hamming_margin(model, x_test, y_test))"
   ]
  },
  {
   "cell_type": "code",
   "execution_count": 20,
   "metadata": {},
   "outputs": [],
   "source": [
    "\n",
    "loss_func = losses.TripletMarginLoss(margin=0.2, distance=distance, reducer=reducer)\n"
   ]
  },
  {
   "cell_type": "code",
   "execution_count": 21,
   "metadata": {},
   "outputs": [],
   "source": [
    "\n",
    "optimizer = optim.Adam(model.parameters(), lr=lr, weight_decay=0) \n"
   ]
  },
  {
   "cell_type": "code",
   "execution_count": 22,
   "metadata": {},
   "outputs": [],
   "source": [
    "\n",
    "model.class_hvs = nn.parameter.Parameter(data=model.class_hvs)\n",
    "mining_func = miners.TripletMarginMiner(\n",
    "    margin=0.2, distance=distance, type_of_triplets=\"semihard\", )"
   ]
  },
  {
   "cell_type": "code",
   "execution_count": 26,
   "metadata": {},
   "outputs": [],
   "source": [
    "def metric_train(model, mining_func, device, train_loader, optimizer):\n",
    "    model.train()\n",
    "    for batch_idx, (data, labels) in enumerate(train_loader):\n",
    "        data, labels = data.to(device), labels.to(device)\n",
    "        optimizer.zero_grad()\n",
    "        embeddings = model(data.reshape(data.size()[0],-1))\n",
    "        indices_tuple = mining_func(embeddings, labels)\n",
    "        loss = loss_func(embeddings,labels,indices_tuple)\n",
    "        loss.backward()\n",
    "        optimizer.step()\n",
    "    "
   ]
  },
  {
   "cell_type": "code",
   "execution_count": 27,
   "metadata": {},
   "outputs": [],
   "source": [
    "### pytorch-metric-learning using Triplet margin loss ###\n",
    "for epoch_i in range(1, num_metric_epochs + 1):\n",
    "    metric_train(model, mining_func, device, train_loader, optimizer)\n",
    "    accuracies.append(HD_test(model, x_test, y_test).item())\n",
    "    margins.append(get_Hamming_margin(model, x_test, y_test))\n"
   ]
  },
  {
   "cell_type": "code",
   "execution_count": 28,
   "metadata": {},
   "outputs": [],
   "source": [
    "num_HD_epoch = 20\n",
    "HD_lr = 1\n",
    "class_accuracies = []\n",
    "class_margins = []\n",
    "for epoch_i in range(1, num_HD_epoch+1):\n",
    "    model.HD_train_step(x_train, y_train, lr=HD_lr)\n",
    "    accuracies.append(HD_test(model, x_test, y_test).item())\n",
    "    margins.append(get_Hamming_margin(model, x_test, y_test))"
   ]
  },
  {
   "cell_type": "code",
   "execution_count": 29,
   "metadata": {},
   "outputs": [
    {
     "data": {
      "image/png": "[encoded data removed]",
      "text/plain": [
       "<Figure size 640x480 with 1 Axes>"
      ]
     },
     "metadata": {},
     "output_type": "display_data"
    },
    {
     "name": "stdout",
     "output_type": "stream",
     "text": [
      "Maximum Accuracy:0.9506999850273132\n"
     ]
    }
   ],
   "source": [
    "plt.plot(accuracies, label=\"Accuracy\", c = \"blue\")\n",
    "plt.xlabel(\"iterations\")\n",
    "plt.ylabel(\"accuracy\")\n",
    "plt.title(f\"Accuracy of 2 Levels, \"+ str(D) + \" Dimensions Dataset:mnist\")\n",
    "plt.legend()\n",
    "plt.show()\n",
    "print(\"Maximum Accuracy:{}\".format(max(accuracies)))\n"
   ]
  },
  {
   "cell_type": "code",
   "execution_count": 9,
   "metadata": {},
   "outputs": [],
   "source": [
    "\n",
    "path = \"model\"\n",
    "filename = f'./model/binary_model_{D}.pt'\n"
   ]
  },
  {
   "cell_type": "code",
   "execution_count": 31,
   "metadata": {},
   "outputs": [],
   "source": [
    "\n",
    "torch.save(model, filename)\n"
   ]
  },
  {
   "cell_type": "code",
   "execution_count": 10,
   "metadata": {},
   "outputs": [],
   "source": [
    "#model load\n",
    "#model = BinaryModel(dim = nFeatures, D=D, num_classes=nClasses, enc_type='RP', device=\"cpu\")\n",
    "model = torch.load(filename)"
   ]
  },
  {
   "cell_type": "code",
   "execution_count": 11,
   "metadata": {},
   "outputs": [],
   "source": [
    "from gkpd import gkpd\n",
    "from gkpd.tensorops import kron\n",
    "from gkpd.tensorops import multidimensional_slice\n",
    "device = \"cuda\""
   ]
  },
  {
   "cell_type": "code",
   "execution_count": 46,
   "metadata": {},
   "outputs": [],
   "source": [
    "\n",
    "import torch.nn.quantized as nnq\n",
    "class KroneckerDecomposition_new(nn.Module):\n",
    "    def __init__(self, A, B, dim, D, num_classes, binary=True):\n",
    "        super(KroneckerDecomposition_new, self).__init__()\n",
    "        self.A = torch.nn.Parameter(torch.tensor(A), requires_grad=True)\n",
    "        self.binary = binary\n",
    "        self.B = torch.nn.Parameter(torch.tensor(B), requires_grad=True)\n",
    "        self.class_hvs = torch.zeros(num_classes, D).float().to(device)\n",
    "        self.class_hvs_nb = torch.zeros(num_classes, D).float().to(device)\n",
    "\n",
    "    def weight_binarize(self, W):\n",
    "       W = torch.where(W<-1,-1,W)\n",
    "       W = torch.where(W>1,1,W)\n",
    "       mask1 = (W >= -1) & (W < 0)\n",
    "       W[mask1] = 2 * W[mask1] + W[mask1]*W[mask1]\n",
    "       mask2 = (W >= 0) & (W < 1)\n",
    "       W[mask2] = 2 * W[mask2] - W[mask2]*W[mask2]\n",
    "       W = W.float()\n",
    "       return W\n",
    "        \n",
    "    def forward(self,x, embedding=False):\n",
    "        out = self.encoding(x)\n",
    "        if embedding:\n",
    "            out = out\n",
    "        else:\n",
    "            out = self.similarity(class_hvs=binarize_hard(self.class_hvs), enc_hv=out)   \n",
    "        return out\n",
    "    \n",
    "    def encoding(self,x):\n",
    "        #print(\"Entering Encoding\")\n",
    "        #Comment\n",
    "        #Can try to run without binarizing also \n",
    "        #Comment\n",
    "        # the next two lines can be commented\n",
    "        #bin_A = self.weight_binarize(self.A)\n",
    "        #bin_B = self.weight_binarize(self.B)\n",
    "        #print(\"Finished binarizing\")\n",
    "        #Comment\n",
    "        #change to kronecker product\n",
    "        #with torch.no_grad():\n",
    "        #quantized_A = nnq.Quantize(0.0625, 0, torch.qint8)(self.A)\n",
    "        #print(quantized_A.grad_fn)\n",
    "        #quantized_B = nnq.Quantize(0.0625, 0, torch.qint8)(self.B)\n",
    "        #print(quantized_B.grad_fn)\n",
    "        weight_kron = kron(self.A, self.B)\n",
    "        print(weight_kron.grad_fn)\n",
    "        #weight_kron = nnq.DeQuantize()(weight_kron)\n",
    "        #print(weight_kron.grad_fn)\n",
    "        #weight_kron = gkpd(weight_kron,tensor.ones(rank,))\n",
    "        weight_kron_size = list(weight_kron.size())\n",
    "        weight_kron = weight_kron.view(weight_kron_size[0],weight_kron_size[1])\n",
    "        #weight_kron= Variable(weight_kron.data, requires_grad=True)\n",
    "        #print(\"Finished reshape\")\n",
    "        x=x.to(device)\n",
    "        weight_kron = weight_kron.to(device)\n",
    "        out = torch.matmul(x,weight_kron.t())\n",
    "        #print(\"Encoding Done\")\n",
    "        return binarize_soft(out)\n",
    "    \n",
    "    def init_class(self, x_train, labels_train):\n",
    "        out = self.encoding(x_train)\n",
    "        if self.binary:\n",
    "            out = binarize_hard(out)\n",
    "\n",
    "        for i in range(x_train.size()[0]):\n",
    "            self.class_hvs[labels_train[i]] += out[i]\n",
    "        \n",
    "        if self.binary:\n",
    "            self.class_hvs = binarize_hard(self.class_hvs)\n",
    "    \n",
    "    def HD_train_step(self, x_train, y_train, lr=1.0):\n",
    "        shuffle_idx = torch.randperm(x_train.size()[0])\n",
    "        x_train = x_train[shuffle_idx]\n",
    "        train_labels = y_train[shuffle_idx]\n",
    "        #l= list(self.rp_layer.parameters())\n",
    "        enc_hvs = binarize_hard(self.encoding(x_train))\n",
    "        for i in range(enc_hvs.size()[0]):\n",
    "            sims = self.similarity(self.class_hvs, enc_hvs[i].unsqueeze(dim=0))\n",
    "            predict = torch.argmax(sims, dim=1)\n",
    "            \n",
    "            if predict != train_labels[i]:\n",
    "                self.class_hvs_nb[predict] -= lr * enc_hvs[i]\n",
    "                self.class_hvs_nb[train_labels[i]] += lr * enc_hvs[i]\n",
    "            \n",
    "            self.class_hvs.data = binarize_hard(self.class_hvs_nb)\n",
    "    \n",
    "    def similarity(self, class_hvs, enc_hv):\n",
    "\t    return torch.matmul(enc_hv, class_hvs.t())/class_hvs.size()[1]\n",
    "    \n",
    "    \n"
   ]
  },
  {
   "cell_type": "code",
   "execution_count": 47,
   "metadata": {},
   "outputs": [],
   "source": [
    "def  metric_train_svd (model, loss_func, mining_func, device, train_loader, optimizer):\n",
    "    model.train()\n",
    "    for batch_idx, (data, labels) in enumerate(train_loader):\n",
    "        data, labels = data.to(device), labels.to(device)\n",
    "        optimizer.zero_grad()\n",
    "        embeddings = model(data.reshape(data.size()[0],-1))\n",
    "        indices_tuple = mining_func(embeddings, labels)\n",
    "        loss = loss_func(embeddings,labels,indices_tuple)\n",
    "        loss.backward()\n",
    "        print(loss.grad_fn)\n",
    "        optimizer.step()\n"
   ]
  },
  {
   "cell_type": "code",
   "execution_count": 48,
   "metadata": {},
   "outputs": [
    {
     "name": "stdout",
     "output_type": "stream",
     "text": [
      "torch.Size([2000, 784, 1, 1])\n"
     ]
    }
   ],
   "source": [
    "w = model.rp_layer.weight.data\n",
    "w = w.view(D,nFeatures,1,1)\n",
    "print(w.shape)\n",
    "rank = 16\n",
    "a_shape, b_shape = (rank, 40, 28, 1, 1), (rank, 50, 28, 1, 1)\n",
    "a_hat, b_hat = gkpd(w, a_shape[1:], b_shape[1:])"
   ]
  },
  {
   "cell_type": "code",
   "execution_count": 53,
   "metadata": {},
   "outputs": [
    {
     "name": "stdout",
     "output_type": "stream",
     "text": [
      "torch.Size([2000, 784, 1, 1])\n"
     ]
    }
   ],
   "source": [
    "import torch.nn.quantized as nnq\n",
    "quantized_A = nnq.Quantize(0.0625, 0, torch.qint8)(a_hat)\n",
    "quantized_B = nnq.Quantize(0.0625, 0, torch.qint8)(b_hat)\n",
    "#print(\"a_hat\",a_hat)\n",
    "#print(\"quantized A\",quantized_A)\n",
    "#quantized_B = torch.quantize_per_tensor(b_hat, scale=0.0625, zero_point=0, dtype=torch.quint4)\n",
    "#weight_kron = kron(quantized_A.int_repr(), quantized_B.int_repr())\n",
    "weight_kron = kron(quantized_A.int_repr(), quantized_B.int_repr())\n",
    "dequantized_result = weight_kron.dequantize()\n",
    "#print(dequantized_result)\n",
    "print(weight_kron.shape)"
   ]
  },
  {
   "cell_type": "code",
   "execution_count": 49,
   "metadata": {},
   "outputs": [
    {
     "name": "stderr",
     "output_type": "stream",
     "text": [
      "C:\\Users\\rewan\\AppData\\Local\\Temp\\ipykernel_16360\\1229531003.py:5: UserWarning: To copy construct from a tensor, it is recommended to use sourceTensor.clone().detach() or sourceTensor.clone().detach().requires_grad_(True), rather than torch.tensor(sourceTensor).\n",
      "  self.A = torch.nn.Parameter(torch.tensor(A), requires_grad=True)\n",
      "C:\\Users\\rewan\\AppData\\Local\\Temp\\ipykernel_16360\\1229531003.py:7: UserWarning: To copy construct from a tensor, it is recommended to use sourceTensor.clone().detach() or sourceTensor.clone().detach().requires_grad_(True), rather than torch.tensor(sourceTensor).\n",
      "  self.B = torch.nn.Parameter(torch.tensor(B), requires_grad=True)\n"
     ]
    }
   ],
   "source": [
    "from torch.utils.data import DataLoader, Subset\n",
    "from torchvision import datasets, transforms\n",
    "device = \"cuda\"\n",
    "kronecker_model = KroneckerDecomposition_new(A=a_hat,B=b_hat,dim = nFeatures, D=D, num_classes=nClasses)\n",
    "model_int8 = torch.ao.quantization.quantize_dynamic(\n",
    "    kronecker_model,  # the original model\n",
    "    {torch.nn.Linear} , # a set of layers to dynamically quantize\n",
    "    dtype=torch.qint8) \n"
   ]
  },
  {
   "cell_type": "code",
   "execution_count": 50,
   "metadata": {},
   "outputs": [
    {
     "name": "stdout",
     "output_type": "stream",
     "text": [
      "<SumBackward1 object at 0x000002BBF6B4CCD0>\n"
     ]
    }
   ],
   "source": [
    "kronecker_model.init_class(x_train=x_train, labels_train = y_train)"
   ]
  },
  {
   "cell_type": "code",
   "execution_count": 51,
   "metadata": {},
   "outputs": [
    {
     "name": "stdout",
     "output_type": "stream",
     "text": [
      "<SumBackward1 object at 0x000002BBF326FBB0>\n",
      "first accuracy 0.8083999752998352\n",
      "<SumBackward1 object at 0x000002BBF326E4D0>\n"
     ]
    }
   ],
   "source": [
    "\n",
    "lr = 0.0001\n",
    "loss_func = losses.TripletMarginLoss(margin=0.2, distance=distance, reducer=reducer)\n",
    "optimizer = optim.Adam(kronecker_model.parameters(), lr=lr, weight_decay=0) \n",
    "kronecker_model.class_hvs = nn.parameter.Parameter(data=kronecker_model.class_hvs)\n",
    "kronecker_accuracies = []\n",
    "kronecker_margins = []\n",
    "kronecker_accuracies.append(HD_test(kronecker_model, x_test, y_test).item())\n",
    "print(\"first accuracy\",kronecker_accuracies[0])\n",
    "#find the initial accuracy right after this\n",
    "kronecker_margins.append(get_Hamming_margin(kronecker_model, x_test, y_test))\n",
    "num_samples = 1000\n",
    "train_loader_truncated = Subset(train_loader.dataset, range(num_samples))\n",
    "train_loader_truncated = DataLoader(train_loader_truncated, batch_size=256, shuffle=True)"
   ]
  },
  {
   "cell_type": "code",
   "execution_count": 52,
   "metadata": {},
   "outputs": [
    {
     "name": "stdout",
     "output_type": "stream",
     "text": [
      "Triplet Loss\n",
      "<SumBackward1 object at 0x000002BBF326DF00>\n",
      "<MeanBackward0 object at 0x000002BBF326DF90>\n",
      "<SumBackward1 object at 0x000002BBF326FDC0>\n",
      "<MeanBackward0 object at 0x000002BBF326DF00>\n",
      "<SumBackward1 object at 0x000002BBF326DF90>\n",
      "<MeanBackward0 object at 0x000002BBF326FDC0>\n",
      "<SumBackward1 object at 0x000002BBF326CCD0>\n",
      "<MeanBackward0 object at 0x000002BBF326DF90>\n",
      "<SumBackward1 object at 0x000002BBF326C3A0>\n",
      "<MeanBackward0 object at 0x000002BBF326CCD0>\n",
      "<SumBackward1 object at 0x000002BBF326DF90>\n",
      "<MeanBackward0 object at 0x000002BBF326C3A0>\n",
      "<SumBackward1 object at 0x000002BBF326CCD0>\n",
      "<MeanBackward0 object at 0x000002BBF326DF90>\n",
      "<SumBackward1 object at 0x000002BBF326C3A0>\n",
      "<MeanBackward0 object at 0x000002BBF326CCD0>\n",
      "<SumBackward1 object at 0x000002BBF326DF90>\n",
      "<MeanBackward0 object at 0x000002BBF326C3A0>\n",
      "<SumBackward1 object at 0x000002BBF326CCD0>\n",
      "<MeanBackward0 object at 0x000002BBF326DF90>\n"
     ]
    }
   ],
   "source": [
    "num_metric_epochs = 4\n",
    "print(\"Triplet Loss\")\n",
    "for epoch_i in range(1, num_metric_epochs + 1):\n",
    "    metric_train_svd(kronecker_model, loss_func, mining_func, device, train_loader, optimizer)\n",
    "    #print(\"metric_Train_done\")\n",
    "    kronecker_accuracies.append(HD_test(kronecker_model, x_test, y_test).item())\n",
    "    #print(\"accuracies done\")\n",
    "    kronecker_margins.append(get_Hamming_margin(kronecker_model, x_test, y_test))\n",
    "    #print(\"margins done\")\n",
    "    #print(\"Epoch\",epoch_i)\n",
    "    #Comment\n",
    "    #Take a note of the first accuracy\n",
    "    print(\"Accuracies\",HD_test(kronecker_model, x_test, y_test).item())"
   ]
  },
  {
   "cell_type": "code",
   "execution_count": null,
   "metadata": {},
   "outputs": [],
   "source": [
    "num_HD_epoch = 20\n",
    "HD_lr = 1\n",
    "kronecker_class_accuracies = []\n",
    "kronecker_class_margins = []\n",
    "for epoch_i in range(1, num_HD_epoch+1):\n",
    "    kronecker_model.HD_train_step(x_train, y_train, lr=HD_lr)\n",
    "    #Comment\n",
    "    #Wrong accuracies\n",
    "    #retrain again \n",
    "    kronecker_accuracies.append(HD_test(kronecker_model, x_test, y_test).item())\n",
    "    kronecker_margins.append(get_Hamming_margin(kronecker_model, x_test, y_test))"
   ]
  },
  {
   "cell_type": "code",
   "execution_count": 42,
   "metadata": {},
   "outputs": [
    {
     "data": {
      "image/png": "[encoded data removed]",
      "text/plain": [
       "<Figure size 640x480 with 1 Axes>"
      ]
     },
     "metadata": {},
     "output_type": "display_data"
    },
    {
     "name": "stdout",
     "output_type": "stream",
     "text": [
      "Maximum Accuracy:0.925000011920929\n"
     ]
    }
   ],
   "source": [
    "plt.plot(kronecker_accuracies, label=\"Accuracy\", c = \"blue\")\n",
    "plt.xlabel(\"iterations\")\n",
    "plt.ylabel(\"accuracy\")\n",
    "plt.title(\"Accuracy of 2 Levels\"+ str(D)+\"Dimensions Dataset:mnist\")\n",
    "plt.legend()\n",
    "plt.show()\n",
    "print(\"Maximum Accuracy:{}\".format(max(kronecker_accuracies)))"
   ]
  },
  {
   "cell_type": "code",
   "execution_count": null,
   "metadata": {},
   "outputs": [],
   "source": [
    "import pandas as pd\n",
    "\n",
    "# read in the existing CSV file, or create a new DataFrame if the file doesn't exist\n",
    "try:\n",
    "    df = pd.read_csv('results.csv')\n",
    "except FileNotFoundError:\n",
    "    df = pd.DataFrame()\n",
    "    "
   ]
  }
 ],
 "metadata": {
  "kernelspec": {
   "display_name": "Python 3",
   "language": "python",
   "name": "python3"
  },
  "language_info": {
   "codemirror_mode": {
    "name": "ipython",
    "version": 3
   },
   "file_extension": ".py",
   "mimetype": "text/x-python",
   "name": "python",
   "nbconvert_exporter": "python",
   "pygments_lexer": "ipython3",
   "version": "3.10.7"
  },
  "orig_nbformat": 4
 },
 "nbformat": 4,
 "nbformat_minor": 2
}
